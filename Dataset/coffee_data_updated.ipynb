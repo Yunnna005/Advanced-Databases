{
 "cells": [
  {
   "cell_type": "markdown",
   "id": "d65a7656",
   "metadata": {},
   "source": [
    "Installed pandas and numpy labraries to modify the dataset."
   ]
  },
  {
   "cell_type": "code",
   "execution_count": 49,
   "id": "d49edafa",
   "metadata": {},
   "outputs": [],
   "source": [
    "import pandas as pd\n",
    "import numpy as np"
   ]
  },
  {
   "cell_type": "markdown",
   "id": "9c6b2de7",
   "metadata": {},
   "source": [
    "Cleaning Data\n",
    "\n",
    "1. Column 2: change datetime to time (HH:MM).\n",
    "2. Column 4: change empty places to display \"payed with cash\".\n",
    "3. Column 5: change Amount of money in Ukrainian hryvnias to Euros.\n",
    "4. Count missing values for each column.\n",
    "5. Rename columns with proper names"
   ]
  },
  {
   "cell_type": "markdown",
   "id": "dbbafb2b",
   "metadata": {},
   "source": [
    "Get the data."
   ]
  },
  {
   "cell_type": "code",
   "execution_count": 50,
   "id": "aab30c04",
   "metadata": {},
   "outputs": [
    {
     "data": {
      "text/html": [
       "<div>\n",
       "<style scoped>\n",
       "    .dataframe tbody tr th:only-of-type {\n",
       "        vertical-align: middle;\n",
       "    }\n",
       "\n",
       "    .dataframe tbody tr th {\n",
       "        vertical-align: top;\n",
       "    }\n",
       "\n",
       "    .dataframe thead th {\n",
       "        text-align: right;\n",
       "    }\n",
       "</style>\n",
       "<table border=\"1\" class=\"dataframe\">\n",
       "  <thead>\n",
       "    <tr style=\"text-align: right;\">\n",
       "      <th></th>\n",
       "      <th>date</th>\n",
       "      <th>datetime</th>\n",
       "      <th>cash_type</th>\n",
       "      <th>card</th>\n",
       "      <th>money</th>\n",
       "      <th>coffee_name</th>\n",
       "    </tr>\n",
       "  </thead>\n",
       "  <tbody>\n",
       "    <tr>\n",
       "      <th>0</th>\n",
       "      <td>2024-03-01</td>\n",
       "      <td>2024-03-01 10:15:50.520</td>\n",
       "      <td>card</td>\n",
       "      <td>ANON-0000-0000-0001</td>\n",
       "      <td>38.7</td>\n",
       "      <td>Latte</td>\n",
       "    </tr>\n",
       "    <tr>\n",
       "      <th>1</th>\n",
       "      <td>2024-03-01</td>\n",
       "      <td>2024-03-01 12:19:22.539</td>\n",
       "      <td>card</td>\n",
       "      <td>ANON-0000-0000-0002</td>\n",
       "      <td>38.7</td>\n",
       "      <td>Hot Chocolate</td>\n",
       "    </tr>\n",
       "    <tr>\n",
       "      <th>2</th>\n",
       "      <td>2024-03-01</td>\n",
       "      <td>2024-03-01 12:20:18.089</td>\n",
       "      <td>card</td>\n",
       "      <td>ANON-0000-0000-0002</td>\n",
       "      <td>38.7</td>\n",
       "      <td>Hot Chocolate</td>\n",
       "    </tr>\n",
       "    <tr>\n",
       "      <th>3</th>\n",
       "      <td>2024-03-01</td>\n",
       "      <td>2024-03-01 13:46:33.006</td>\n",
       "      <td>card</td>\n",
       "      <td>ANON-0000-0000-0003</td>\n",
       "      <td>28.9</td>\n",
       "      <td>Americano</td>\n",
       "    </tr>\n",
       "    <tr>\n",
       "      <th>4</th>\n",
       "      <td>2024-03-01</td>\n",
       "      <td>2024-03-01 13:48:14.626</td>\n",
       "      <td>card</td>\n",
       "      <td>ANON-0000-0000-0004</td>\n",
       "      <td>38.7</td>\n",
       "      <td>Latte</td>\n",
       "    </tr>\n",
       "  </tbody>\n",
       "</table>\n",
       "</div>"
      ],
      "text/plain": [
       "         date                 datetime cash_type                 card  money  \\\n",
       "0  2024-03-01  2024-03-01 10:15:50.520      card  ANON-0000-0000-0001   38.7   \n",
       "1  2024-03-01  2024-03-01 12:19:22.539      card  ANON-0000-0000-0002   38.7   \n",
       "2  2024-03-01  2024-03-01 12:20:18.089      card  ANON-0000-0000-0002   38.7   \n",
       "3  2024-03-01  2024-03-01 13:46:33.006      card  ANON-0000-0000-0003   28.9   \n",
       "4  2024-03-01  2024-03-01 13:48:14.626      card  ANON-0000-0000-0004   38.7   \n",
       "\n",
       "     coffee_name  \n",
       "0          Latte  \n",
       "1  Hot Chocolate  \n",
       "2  Hot Chocolate  \n",
       "3      Americano  \n",
       "4          Latte  "
      ]
     },
     "execution_count": 50,
     "metadata": {},
     "output_type": "execute_result"
    }
   ],
   "source": [
    "data = pd.read_csv('coffee_sales.csv')\n",
    "data.head()"
   ]
  },
  {
   "cell_type": "markdown",
   "id": "2a58374d",
   "metadata": {},
   "source": [
    "#### 1. Formating columns Date and Datetime"
   ]
  },
  {
   "cell_type": "code",
   "execution_count": 51,
   "id": "07c3233a",
   "metadata": {},
   "outputs": [
    {
     "name": "stdout",
     "output_type": "stream",
     "text": [
      "date           datetime64[ns]\n",
      "datetime               object\n",
      "cash_type              object\n",
      "card                   object\n",
      "money                 float64\n",
      "coffee_name            object\n",
      "dtype: object\n"
     ]
    }
   ],
   "source": [
    "from datetime import datetime\n",
    "\n",
    "data[\"date\"] = pd.to_datetime(data[\"date\"], format=\"%Y-%m-%d\")\n",
    "\n",
    "data[\"datetime\"] = pd.to_datetime(data[\"datetime\"]).dt.strftime('%H:%M:%S')\n",
    "\n",
    "print(data.dtypes)"
   ]
  },
  {
   "cell_type": "markdown",
   "id": "0a0bb76f",
   "metadata": {},
   "source": [
    "#### 2. Formating Column 4\n",
    "- Counting missing values for all column\n",
    "- Replace empty spaces with \"payed with cash\"\n",
    "- Check the result"
   ]
  },
  {
   "cell_type": "code",
   "execution_count": 52,
   "id": "e8aa98c9",
   "metadata": {},
   "outputs": [
    {
     "name": "stdout",
     "output_type": "stream",
     "text": [
      "date            0\n",
      "datetime        0\n",
      "cash_type       0\n",
      "card           89\n",
      "money           0\n",
      "coffee_name     0\n",
      "dtype: int64\n"
     ]
    }
   ],
   "source": [
    "print(data.isna().sum())"
   ]
  },
  {
   "cell_type": "code",
   "execution_count": 53,
   "id": "99a6af9c",
   "metadata": {},
   "outputs": [
    {
     "name": "stdout",
     "output_type": "stream",
     "text": [
      "date           0\n",
      "datetime       0\n",
      "cash_type      0\n",
      "card           0\n",
      "money          0\n",
      "coffee_name    0\n",
      "dtype: int64\n",
      "date                2024-03-02\n",
      "datetime              10:30:35\n",
      "cash_type                 cash\n",
      "card           payed with cash\n",
      "money                     40.0\n",
      "coffee_name              Latte\n",
      "Name: 12, dtype: object\n"
     ]
    }
   ],
   "source": [
    "data = data.astype(str)\n",
    "\n",
    "data.replace([\"nan\"], \"payed with cash\", inplace=True)\n",
    "\n",
    "print(data.isna().sum())\n",
    "print(data.iloc[12])"
   ]
  },
  {
   "cell_type": "markdown",
   "id": "9662ed1c",
   "metadata": {},
   "source": [
    "#### 3. Formating Column 5\n",
    "- Check the value type\n",
    "- Fix the values type\n",
    "- Fix currency from ukrainian hryvnas to euro"
   ]
  },
  {
   "cell_type": "code",
   "execution_count": 54,
   "id": "ee27410e",
   "metadata": {},
   "outputs": [
    {
     "data": {
      "text/plain": [
       "money\n",
       "<class 'str'>    3636\n",
       "Name: count, dtype: int64"
      ]
     },
     "execution_count": 54,
     "metadata": {},
     "output_type": "execute_result"
    }
   ],
   "source": [
    "data['money'].apply(type).value_counts()"
   ]
  },
  {
   "cell_type": "code",
   "execution_count": 56,
   "id": "b0508c7e",
   "metadata": {},
   "outputs": [
    {
     "data": {
      "text/plain": [
       "money\n",
       "<class 'float'>    3636\n",
       "Name: count, dtype: int64"
      ]
     },
     "execution_count": 56,
     "metadata": {},
     "output_type": "execute_result"
    }
   ],
   "source": [
    "data['money'] = data['money'].astype(float)\n",
    "data['money'].apply(type).value_counts()"
   ]
  },
  {
   "cell_type": "code",
   "execution_count": 57,
   "id": "b35ee711",
   "metadata": {},
   "outputs": [
    {
     "data": {
      "text/html": [
       "<div>\n",
       "<style scoped>\n",
       "    .dataframe tbody tr th:only-of-type {\n",
       "        vertical-align: middle;\n",
       "    }\n",
       "\n",
       "    .dataframe tbody tr th {\n",
       "        vertical-align: top;\n",
       "    }\n",
       "\n",
       "    .dataframe thead th {\n",
       "        text-align: right;\n",
       "    }\n",
       "</style>\n",
       "<table border=\"1\" class=\"dataframe\">\n",
       "  <thead>\n",
       "    <tr style=\"text-align: right;\">\n",
       "      <th></th>\n",
       "      <th>date</th>\n",
       "      <th>datetime</th>\n",
       "      <th>cash_type</th>\n",
       "      <th>card</th>\n",
       "      <th>money</th>\n",
       "      <th>coffee_name</th>\n",
       "    </tr>\n",
       "  </thead>\n",
       "  <tbody>\n",
       "    <tr>\n",
       "      <th>0</th>\n",
       "      <td>2024-03-01</td>\n",
       "      <td>10:15:50</td>\n",
       "      <td>card</td>\n",
       "      <td>ANON-0000-0000-0001</td>\n",
       "      <td>0.79</td>\n",
       "      <td>Latte</td>\n",
       "    </tr>\n",
       "    <tr>\n",
       "      <th>1</th>\n",
       "      <td>2024-03-01</td>\n",
       "      <td>12:19:22</td>\n",
       "      <td>card</td>\n",
       "      <td>ANON-0000-0000-0002</td>\n",
       "      <td>0.79</td>\n",
       "      <td>Hot Chocolate</td>\n",
       "    </tr>\n",
       "    <tr>\n",
       "      <th>2</th>\n",
       "      <td>2024-03-01</td>\n",
       "      <td>12:20:18</td>\n",
       "      <td>card</td>\n",
       "      <td>ANON-0000-0000-0002</td>\n",
       "      <td>0.79</td>\n",
       "      <td>Hot Chocolate</td>\n",
       "    </tr>\n",
       "    <tr>\n",
       "      <th>3</th>\n",
       "      <td>2024-03-01</td>\n",
       "      <td>13:46:33</td>\n",
       "      <td>card</td>\n",
       "      <td>ANON-0000-0000-0003</td>\n",
       "      <td>0.59</td>\n",
       "      <td>Americano</td>\n",
       "    </tr>\n",
       "    <tr>\n",
       "      <th>4</th>\n",
       "      <td>2024-03-01</td>\n",
       "      <td>13:48:14</td>\n",
       "      <td>card</td>\n",
       "      <td>ANON-0000-0000-0004</td>\n",
       "      <td>0.79</td>\n",
       "      <td>Latte</td>\n",
       "    </tr>\n",
       "  </tbody>\n",
       "</table>\n",
       "</div>"
      ],
      "text/plain": [
       "         date  datetime cash_type                 card  money    coffee_name\n",
       "0  2024-03-01  10:15:50      card  ANON-0000-0000-0001   0.79          Latte\n",
       "1  2024-03-01  12:19:22      card  ANON-0000-0000-0002   0.79  Hot Chocolate\n",
       "2  2024-03-01  12:20:18      card  ANON-0000-0000-0002   0.79  Hot Chocolate\n",
       "3  2024-03-01  13:46:33      card  ANON-0000-0000-0003   0.59      Americano\n",
       "4  2024-03-01  13:48:14      card  ANON-0000-0000-0004   0.79          Latte"
      ]
     },
     "execution_count": 57,
     "metadata": {},
     "output_type": "execute_result"
    }
   ],
   "source": [
    "data['money'] = (data['money'] / 48.7).round(2)\n",
    "data.head()"
   ]
  },
  {
   "cell_type": "markdown",
   "id": "a5e1549b",
   "metadata": {},
   "source": [
    "#### 4. Renaming columns"
   ]
  },
  {
   "cell_type": "code",
   "execution_count": 58,
   "id": "aa507af1",
   "metadata": {},
   "outputs": [
    {
     "name": "stdout",
     "output_type": "stream",
     "text": [
      "Index(['date', 'time', 'payment_type', 'card', 'amount_eur', 'coffee_type'], dtype='object')\n"
     ]
    }
   ],
   "source": [
    "new_column_names = {\"date\": \"date\", \n",
    "                    \"datetime\": \"time\", \n",
    "                    \"cash_type\": \"payment_type\", \n",
    "                    \"card\": \"card\", \n",
    "                    \"money\": \"amount_eur\", \n",
    "                    \"coffee_name\": \"coffee_type\"}\n",
    "\n",
    "data.rename(columns=new_column_names, inplace=True)\n",
    "print(data.columns)"
   ]
  },
  {
   "cell_type": "markdown",
   "id": "15f9485e",
   "metadata": {},
   "source": [
    "Save formated file"
   ]
  },
  {
   "cell_type": "code",
   "execution_count": 59,
   "id": "f709e163",
   "metadata": {},
   "outputs": [],
   "source": [
    "data.to_csv('coffee_sales_updated.csv', index=False)"
   ]
  },
  {
   "cell_type": "markdown",
   "id": "21310c5f",
   "metadata": {},
   "source": [
    "The coffee_sales.csv file was successfully formated and saved in the project. The file ready to be uploaded to a database."
   ]
  }
 ],
 "metadata": {
  "kernelspec": {
   "display_name": "Python 3",
   "language": "python",
   "name": "python3"
  },
  "language_info": {
   "codemirror_mode": {
    "name": "ipython",
    "version": 3
   },
   "file_extension": ".py",
   "mimetype": "text/x-python",
   "name": "python",
   "nbconvert_exporter": "python",
   "pygments_lexer": "ipython3",
   "version": "3.12.11"
  }
 },
 "nbformat": 4,
 "nbformat_minor": 5
}

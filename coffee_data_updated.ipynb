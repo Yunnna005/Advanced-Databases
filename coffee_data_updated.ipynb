{
 "cells": [
  {
   "cell_type": "markdown",
   "id": "d65a7656",
   "metadata": {},
   "source": [
    "Installed pandas and numpy labraries to modify the dataset."
   ]
  },
  {
   "cell_type": "code",
   "execution_count": 2,
   "id": "d49edafa",
   "metadata": {},
   "outputs": [],
   "source": [
    "import pandas as pd\n",
    "import numpy as np"
   ]
  },
  {
   "cell_type": "markdown",
   "id": "9c6b2de7",
   "metadata": {},
   "source": [
    "Cleaning Data\n",
    "\n",
    "1. Column 2: change datetime to time (HH:MM).\n",
    "2. Column 4: change empty places to display \"payed with cash\".\n",
    "3. Column 5: change Amount of money in Ukrainian hryvnias to Euros.\n",
    "4. Count missing values for each column."
   ]
  },
  {
   "cell_type": "markdown",
   "id": "2a58374d",
   "metadata": {},
   "source": [
    "#### 1. Formating DataTime"
   ]
  },
  {
   "cell_type": "code",
   "execution_count": null,
   "id": "07c3233a",
   "metadata": {},
   "outputs": [],
   "source": []
  }
 ],
 "metadata": {
  "kernelspec": {
   "display_name": "Python 3",
   "language": "python",
   "name": "python3"
  },
  "language_info": {
   "codemirror_mode": {
    "name": "ipython",
    "version": 3
   },
   "file_extension": ".py",
   "mimetype": "text/x-python",
   "name": "python",
   "nbconvert_exporter": "python",
   "pygments_lexer": "ipython3",
   "version": "3.12.11"
  }
 },
 "nbformat": 4,
 "nbformat_minor": 5
}
